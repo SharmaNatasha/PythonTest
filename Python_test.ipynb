{
 "cells": [
  {
   "cell_type": "markdown",
   "metadata": {},
   "source": [
    "# 1. Sort string list on length of strings"
   ]
  },
  {
   "cell_type": "code",
   "execution_count": 23,
   "metadata": {},
   "outputs": [],
   "source": [
    "#Get input from users\n",
    "\n",
    "def get_sorted_list(range_string):\n",
    "    list_str = []\n",
    "    \n",
    "    print('Please enter the list of string') \n",
    "    for i in range(0, range_string):\n",
    "        list_str.append(input())\n",
    "        \n",
    "    print(\"Before sorting string list :\") \n",
    "    print( list_str)  \n",
    "    \n",
    "    list_str.sort(key=len)\n",
    "    return list_str"
   ]
  },
  {
   "cell_type": "code",
   "execution_count": 24,
   "metadata": {},
   "outputs": [
    {
     "name": "stdout",
     "output_type": "stream",
     "text": [
      "Please enter a range for list: 5\n",
      "Please enter the list of string\n",
      "ss\n",
      "a\n",
      "p\n",
      "xxxxx\n",
      "t\n",
      "Before sorting string list :\n",
      "['ss', 'a', 'p', 'xxxxx', 't']\n",
      "Sorted string list :\n",
      "['a', 'p', 't', 'ss', 'xxxxx']\n"
     ]
    }
   ],
   "source": [
    "#Define the range of list and call get_input function\n",
    "num_string = int(input('Please enter a range for list: '))\n",
    "\n",
    "list_string = get_sorted_list(num_string)\n",
    "\n",
    "print(\"Sorted string list :\")  \n",
    "print(list_string)"
   ]
  },
  {
   "cell_type": "markdown",
   "metadata": {},
   "source": [
    "# 2. Cipher function"
   ]
  },
  {
   "cell_type": "code",
   "execution_count": 27,
   "metadata": {},
   "outputs": [],
   "source": [
    "def cipher_function(start, end):\n",
    "    \n",
    "    number_alph = 26\n",
    "    \n",
    "    for index in range(start,end+1):\n",
    "        cipher_string = \"\"\n",
    "        \n",
    "        #copy index value to another variable\n",
    "        cipher_index = index\n",
    "        \n",
    "        # produce cipher until cipher_index is great than 0\n",
    "        while cipher_index > 0:\n",
    "            \n",
    "            mod = (cipher_index - 1) % number_alph\n",
    "            \n",
    "            cipher_index = int((cipher_index-mod)/number_alph)\n",
    "            \n",
    "            #Use ASCII value of A = 65 to get further letters for cipher\n",
    "            \n",
    "            cipher_string = chr(ord('A') + mod) + cipher_string\n",
    "            \n",
    "        print(cipher_string)"
   ]
  },
  {
   "cell_type": "code",
   "execution_count": 28,
   "metadata": {},
   "outputs": [
    {
     "name": "stdout",
     "output_type": "stream",
     "text": [
      "Please enter m:25\n",
      "Please enter n:29\n",
      "Y\n",
      "Z\n",
      "AA\n",
      "AB\n",
      "AC\n"
     ]
    }
   ],
   "source": [
    "#Get input from user - m(start) and n(end)\n",
    "\n",
    "m = int(input('Please enter m:'))\n",
    "n = int(input('Please enter n:'))\n",
    "\n",
    "if 1 <= m < n <= 676:\n",
    "    cipher_function(m,n)\n",
    "    \n",
    "else:\n",
    "    print(\"Try again!\")"
   ]
  },
  {
   "cell_type": "markdown",
   "metadata": {},
   "source": [
    "# 3. Factorisation function"
   ]
  },
  {
   "cell_type": "code",
   "execution_count": 1,
   "metadata": {},
   "outputs": [],
   "source": [
    "#Function to retrieve factors of a number and chcek if number is prime\n",
    "def get_factors_prime(number):\n",
    "    \n",
    "    count_factors = 0\n",
    "    \n",
    "    for factor in range(2, number+1):\n",
    "        if number % factor == 0:\n",
    "            print(factor)\n",
    "            count_factors = count_factors + 1\n",
    "            \n",
    "    #if there is no factor that mean number is prime   \n",
    "    if count_factors == 0:\n",
    "        print(number, \"is prime!\")"
   ]
  },
  {
   "cell_type": "code",
   "execution_count": 2,
   "metadata": {},
   "outputs": [
    {
     "name": "stdout",
     "output_type": "stream",
     "text": [
      "Please enter a number less than 100000: 6\n",
      "2\n",
      "3\n",
      "6\n"
     ]
    }
   ],
   "source": [
    "number = int(input('Please enter a number less than 100000: '))\n",
    "\n",
    "if  number < 100000 :\n",
    "    get_factors_prime(number)\n",
    "else:\n",
    "    print(\"Try Again!\")"
   ]
  },
  {
   "cell_type": "code",
   "execution_count": null,
   "metadata": {},
   "outputs": [],
   "source": []
  }
 ],
 "metadata": {
  "kernelspec": {
   "display_name": "Python 3",
   "language": "python",
   "name": "python3"
  },
  "language_info": {
   "codemirror_mode": {
    "name": "ipython",
    "version": 3
   },
   "file_extension": ".py",
   "mimetype": "text/x-python",
   "name": "python",
   "nbconvert_exporter": "python",
   "pygments_lexer": "ipython3",
   "version": "3.6.4"
  }
 },
 "nbformat": 4,
 "nbformat_minor": 2
}
